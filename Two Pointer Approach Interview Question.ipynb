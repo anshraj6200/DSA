{
 "cells": [
  {
   "cell_type": "code",
   "execution_count": 1,
   "id": "fa27c830-d203-4fba-84f4-554389e3e10c",
   "metadata": {},
   "outputs": [
    {
     "name": "stdout",
     "output_type": "stream",
     "text": [
      "(4, 5)\n"
     ]
    }
   ],
   "source": [
    "## Time complexity: O(n)\n",
    "## Two Pointer approach\n",
    "def two_sum(arr, sum_value, i, j):\n",
    "    while i <= j:\n",
    "        if arr[i] + arr[j] == sum_value:\n",
    "            return (i, j)\n",
    "        elif arr[i] + arr[j] > sum_value:\n",
    "            j = j-1\n",
    "        else:\n",
    "            i = i+1\n",
    "    return -1\n",
    "\n",
    "arr = [20, 40, 60, 80, 90, 120, 240]\n",
    "sum_value = 210\n",
    "i = 0\n",
    "j = len(arr) - 1\n",
    "\n",
    "result = two_sum(arr, sum_value, i, j)\n",
    "print(result)"
   ]
  },
  {
   "cell_type": "code",
   "execution_count": null,
   "id": "8581d2ff-f590-4b98-a2a7-3740636a4065",
   "metadata": {},
   "outputs": [],
   "source": []
  }
 ],
 "metadata": {
  "kernelspec": {
   "display_name": "Python 3 (ipykernel)",
   "language": "python",
   "name": "python3"
  },
  "language_info": {
   "codemirror_mode": {
    "name": "ipython",
    "version": 3
   },
   "file_extension": ".py",
   "mimetype": "text/x-python",
   "name": "python",
   "nbconvert_exporter": "python",
   "pygments_lexer": "ipython3",
   "version": "3.12.3"
  }
 },
 "nbformat": 4,
 "nbformat_minor": 5
}

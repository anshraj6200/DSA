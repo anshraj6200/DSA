{
 "cells": [
  {
   "cell_type": "code",
   "execution_count": 20,
   "id": "c775bb5a-9daf-4b6a-97b7-955f3bcbd50b",
   "metadata": {},
   "outputs": [
    {
     "name": "stdout",
     "output_type": "stream",
     "text": [
      "Array after using insertion_sort is: [75, 80, 85, 90, 95, 100]\n"
     ]
    }
   ],
   "source": [
    "def insertion_sort(arr):\n",
    "    n = len(arr)\n",
    "    for i in range(n):\n",
    "        j=i-1\n",
    "        key=arr[i]\n",
    "        while j>=0 and key<arr[j]:\n",
    "            arr[j+1] = arr[j]\n",
    "            j = j-1\n",
    "        arr[j+1] = key\n",
    "    return arr\n",
    "\n",
    "arr = [75, 90, 100, 95, 85, 80]\n",
    "result = insertion_sort(arr)\n",
    "print(\"Array after using insertion_sort is:\", result)"
   ]
  },
  {
   "cell_type": "code",
   "execution_count": null,
   "id": "543a3c4d-d37e-481f-baa0-954765a12a94",
   "metadata": {},
   "outputs": [],
   "source": []
  }
 ],
 "metadata": {
  "kernelspec": {
   "display_name": "Python 3 (ipykernel)",
   "language": "python",
   "name": "python3"
  },
  "language_info": {
   "codemirror_mode": {
    "name": "ipython",
    "version": 3
   },
   "file_extension": ".py",
   "mimetype": "text/x-python",
   "name": "python",
   "nbconvert_exporter": "python",
   "pygments_lexer": "ipython3",
   "version": "3.12.3"
  }
 },
 "nbformat": 4,
 "nbformat_minor": 5
}

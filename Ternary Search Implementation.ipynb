{
 "cells": [
  {
   "cell_type": "code",
   "execution_count": 2,
   "id": "187a245e-49b4-478c-a613-294aa4f127d6",
   "metadata": {},
   "outputs": [
    {
     "name": "stdin",
     "output_type": "stream",
     "text": [
      "Enter number to be found:  56\n"
     ]
    },
    {
     "name": "stdout",
     "output_type": "stream",
     "text": [
      "3\n"
     ]
    }
   ],
   "source": [
    "def ternarySearch(arr,i,j,key):\n",
    "    ## compute the values of mid1 and mid2\n",
    "    mid1 = i + (j-i)//3\n",
    "    mid2 = j - (j-i)//3\n",
    "    \n",
    "    while i<=j:\n",
    "        \n",
    "        if arr[mid1] == key:\n",
    "            return mid1\n",
    "        elif arr[mid2] == key:\n",
    "            return mid2\n",
    "        ## first part of the ternary search\n",
    "        elif key < arr[mid1]:\n",
    "            ## recursive call\n",
    "            return ternarySearch(arr,i,mid1-1,key)\n",
    "        ## third part of the ternary search\n",
    "        elif key > arr[mid2]:\n",
    "            ## recursive call\n",
    "            return ternarySearch(arr,mid2+1,j,key)\n",
    "        else:\n",
    "            ## second part of the ternary search\n",
    "            ## recursive call\n",
    "            return ternarySearch(arr,mid1+1,mid2-1,key)\n",
    "    ## if the searching element is not present in the array\n",
    "    return -1\n",
    "    \n",
    "\n",
    "## Driver code ##\n",
    "arr = [20,25,47,56,59,63,65,79,82]\n",
    "i = 0\n",
    "j = len(arr)-1\n",
    "key = int(input('Enter number to be found: '))\n",
    "## function calling\n",
    "position = ternarySearch(arr,i,j,key)\n",
    "print(position)"
   ]
  },
  {
   "cell_type": "code",
   "execution_count": null,
   "id": "7274119e-9343-486e-9e6b-9bb5cda2e82f",
   "metadata": {},
   "outputs": [],
   "source": []
  }
 ],
 "metadata": {
  "kernelspec": {
   "display_name": "Python 3 (ipykernel)",
   "language": "python",
   "name": "python3"
  },
  "language_info": {
   "codemirror_mode": {
    "name": "ipython",
    "version": 3
   },
   "file_extension": ".py",
   "mimetype": "text/x-python",
   "name": "python",
   "nbconvert_exporter": "python",
   "pygments_lexer": "ipython3",
   "version": "3.12.3"
  }
 },
 "nbformat": 4,
 "nbformat_minor": 5
}

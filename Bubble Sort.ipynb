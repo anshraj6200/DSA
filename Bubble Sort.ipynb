{
 "cells": [
  {
   "cell_type": "code",
   "execution_count": 1,
   "id": "f2ddffab-a791-483a-b319-4a4a1dacfba8",
   "metadata": {},
   "outputs": [
    {
     "name": "stdout",
     "output_type": "stream",
     "text": [
      "Array after using bubble sort is: [20, 35, 47, 50, 60, 70]\n"
     ]
    }
   ],
   "source": [
    "## Implementation of Bubble Sort\n",
    "## Time complexity: O(n^2)\n",
    "## Method implementation\n",
    "def bubbleSort(arr):\n",
    "    n = len(arr)\n",
    "    for i in range(n):\n",
    "        for j in range(0, n-i-1):\n",
    "            if arr[j] > arr[j+1]:\n",
    "                ## swap of the elements\n",
    "                arr[j], arr[j+1] = arr[j+1], arr[j]\n",
    "    return arr\n",
    "\n",
    "## Driver code\n",
    "arr = [70, 20, 50, 60, 35, 47]\n",
    "result = bubbleSort(arr)\n",
    "print(\"Array after using bubble sort is:\", result)"
   ]
  },
  {
   "cell_type": "code",
   "execution_count": null,
   "id": "2f9d5150-0f28-4c4e-a395-7d3700b2ed0d",
   "metadata": {},
   "outputs": [],
   "source": []
  }
 ],
 "metadata": {
  "kernelspec": {
   "display_name": "Python 3 (ipykernel)",
   "language": "python",
   "name": "python3"
  },
  "language_info": {
   "codemirror_mode": {
    "name": "ipython",
    "version": 3
   },
   "file_extension": ".py",
   "mimetype": "text/x-python",
   "name": "python",
   "nbconvert_exporter": "python",
   "pygments_lexer": "ipython3",
   "version": "3.12.3"
  }
 },
 "nbformat": 4,
 "nbformat_minor": 5
}

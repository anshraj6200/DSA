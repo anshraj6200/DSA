{
 "cells": [
  {
   "cell_type": "code",
   "execution_count": 3,
   "id": "dd525473-41eb-4ed1-8fb6-fa5d68c5bb9c",
   "metadata": {},
   "outputs": [
    {
     "name": "stdout",
     "output_type": "stream",
     "text": [
      "True\n"
     ]
    }
   ],
   "source": [
    "## time complexity: O(log(m*n))\n",
    "def search2DArray(arr, target):\n",
    "    ## number of rows\n",
    "    m = len(arr)\n",
    "    if m == 0:\n",
    "        return False\n",
    "    ## numer of columns\n",
    "    n = len(arr[0])\n",
    "    left, right = 0, m*n-1\n",
    "    ## binary search implementation\n",
    "    while left <= right:\n",
    "        mid = left + (right - left)//2\n",
    "        ## row_number -> mid//n\n",
    "        ## column_number -> mid%n\n",
    "        mid_element = arr[mid//n][mid%n]\n",
    "        if target == mid_element:\n",
    "            return True\n",
    "        elif target < mid_element:\n",
    "            right = mid - 1\n",
    "        else:\n",
    "            left = mid + 1\n",
    "    return False\n",
    "\n",
    "arr = [[1,3,5,7],[10,11,16,20],[23,30,34,60]]\n",
    "target = 3\n",
    "result = search2DArray(arr, target)\n",
    "print(result)"
   ]
  },
  {
   "cell_type": "code",
   "execution_count": null,
   "id": "cec7c619-b4fd-473d-b35f-71118f022ce3",
   "metadata": {},
   "outputs": [],
   "source": []
  }
 ],
 "metadata": {
  "kernelspec": {
   "display_name": "Python 3 (ipykernel)",
   "language": "python",
   "name": "python3"
  },
  "language_info": {
   "codemirror_mode": {
    "name": "ipython",
    "version": 3
   },
   "file_extension": ".py",
   "mimetype": "text/x-python",
   "name": "python",
   "nbconvert_exporter": "python",
   "pygments_lexer": "ipython3",
   "version": "3.12.3"
  }
 },
 "nbformat": 4,
 "nbformat_minor": 5
}
